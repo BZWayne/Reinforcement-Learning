{
 "cells": [
  {
   "cell_type": "code",
   "execution_count": 3,
   "metadata": {},
   "outputs": [
    {
     "name": "stdout",
     "output_type": "stream",
     "text": [
      "[25.0, 49.0, 55.0, 41.0, 41.0, 31.0, 25.0, 36.0, 39.0, 37.0, 53.0, 26.0, 52.0, 44.0, 40.0, 47.0, 38.0, 48.0, 36.0, 25.0, 35.0, 25.0, 52.0, 68.0, 37.0, 40.0, 43.0, 51.0, 34.0, 38.0, 64.0, 31.0, 42.0, 39.0, 34.0, 39.0, 48.0, 43.0, 34.0, 40.0, 40.0, 35.0, 32.0, 62.0, 36.0, 53.0, 42.0, 41.0, 39.0, 38.0, 68.0, 38.0, 40.0, 46.0, 49.0, 41.0, 36.0, 38.0, 41.0, 45.0, 54.0, 34.0, 35.0, 53.0, 54.0, 26.0, 55.0, 34.0, 47.0, 41.0, 47.0, 37.0, 47.0, 45.0, 39.0, 46.0, 53.0, 39.0, 57.0, 35.0, 49.0, 25.0, 52.0, 35.0, 55.0, 47.0, 38.0, 35.0, 41.0, 26.0, 41.0, 47.0, 41.0, 36.0, 47.0, 41.0, 41.0, 37.0, 26.0, 44.0, 55.0, 35.0, 51.0, 51.0, 34.0, 61.0, 41.0, 35.0, 42.0, 53.0, 25.0, 40.0, 39.0, 40.0, 31.0, 40.0, 40.0, 47.0, 54.0, 42.0, 53.0, 40.0, 49.0, 31.0, 36.0, 35.0, 39.0, 36.0, 39.0, 41.0, 42.0, 48.0, 42.0, 52.0, 41.0, 42.0, 40.0, 25.0, 35.0, 32.0, 45.0, 44.0, 53.0, 34.0, 36.0, 55.0, 50.0, 51.0, 45.0, 35.0, 25.0, 48.0, 47.0, 50.0, 46.0, 39.0, 32.0, 40.0, 50.0, 32.0, 31.0, 56.0, 48.0, 48.0, 42.0, 34.0, 49.0, 53.0, 46.0, 47.0, 52.0, 51.0, 35.0, 57.0, 39.0, 35.0, 46.0, 39.0, 39.0, 41.0, 32.0, 43.0, 41.0, 39.0, 72.0, 36.0, 39.0, 40.0, 34.0, 45.0, 53.0, 47.0, 26.0, 52.0, 40.0, 52.0, 45.0, 26.0, 36.0, 67.0]\n",
      "The longest number of timesteps the pole balanced: 72.0\n"
     ]
    }
   ],
   "source": [
    "#CartPole-v0 simulation\n",
    "\n",
    "import gym\n",
    "\n",
    "env = gym.make('CartPole-v0') #create the environment\n",
    "\n",
    "def basic_policy(obs):\n",
    "    angle = obs[2]  #determines what action to do\n",
    "    if angle < 0:\n",
    "        return 0\n",
    "    else:\n",
    "        return 1\n",
    "\n",
    "totals =[]  #list of reward accumulated for each episode\n",
    "for episode in range(200):\n",
    "    episode_rewards = 0  #the rewards for the episode, in this case just \"staying alive\" or running as long as possible\n",
    "    obs = env.reset() #init obs, carts (0.0 for center), velocity, pole angle\n",
    "    action = 1 #cart move left or right\n",
    "    for step in range(1000): #1000 steps \n",
    "        action = basic_policy(obs)  #performs an action based on the policy\n",
    "        env.render()\n",
    "        obs, reward, done, info = env.step(action) #update observation and rewards\n",
    "        episode_rewards += reward\n",
    "        if done:\n",
    "            totals.append(episode_rewards)\n",
    "            break\n",
    "\n",
    "print (totals)\n",
    "print ('The longest number of timesteps the pole balanced: ' +str(max(totals)))"
   ]
  },
  {
   "cell_type": "code",
   "execution_count": null,
   "metadata": {},
   "outputs": [],
   "source": []
  }
 ],
 "metadata": {
  "kernelspec": {
   "display_name": "Python 3",
   "language": "python",
   "name": "python3"
  },
  "language_info": {
   "codemirror_mode": {
    "name": "ipython",
    "version": 3
   },
   "file_extension": ".py",
   "mimetype": "text/x-python",
   "name": "python",
   "nbconvert_exporter": "python",
   "pygments_lexer": "ipython3",
   "version": "3.7.1"
  }
 },
 "nbformat": 4,
 "nbformat_minor": 2
}
