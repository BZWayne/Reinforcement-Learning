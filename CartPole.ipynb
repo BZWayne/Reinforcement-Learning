{
 "cells": [
  {
   "cell_type": "code",
   "execution_count": null,
   "metadata": {},
   "outputs": [],
   "source": [
    "#CartPole-v0 simulation\n",
    "\n",
    "import gym\n",
    "\n",
    "env = gym.make('CartPole-v0') #create the environment\n",
    "\n",
    "def basic_policy(obs):\n",
    "    angle = obs[2]  #determines what action to do\n",
    "    if angle < 0:\n",
    "        return 0\n",
    "    else:\n",
    "        return 1\n",
    "\n",
    "totals =[]  #list of reward accumulated for each episode\n",
    "for episode in range(200):\n",
    "    episode_rewards = 0  #the rewards for the episode, in this case just \"staying alive\" or running as long as possible\n",
    "    obs = env.reset() #init obs, carts (0.0 for center), velocity, pole angle\n",
    "    action = 1 #cart move left or right\n",
    "    for step in range(1000): #1000 steps \n",
    "        action = basic_policy(obs)  #performs an action based on the policy\n",
    "        env.render()\n",
    "        obs, reward, done, info = env.step(action) #update observation and rewards\n",
    "        episode_rewards += reward\n",
    "        if done:\n",
    "            totals.append(episode_rewards)\n",
    "            break\n",
    "\n",
    "print (totals)\n",
    "print ('The longest number of timesteps the pole balanced: ' +str(max(totals)))"
   ]
  },
  {
   "cell_type": "code",
   "execution_count": null,
   "metadata": {},
   "outputs": [],
   "source": []
  }
 ],
 "metadata": {
  "kernelspec": {
   "display_name": "Python 3",
   "language": "python",
   "name": "python3"
  },
  "language_info": {
   "codemirror_mode": {
    "name": "ipython",
    "version": 3
   },
   "file_extension": ".py",
   "mimetype": "text/x-python",
   "name": "python",
   "nbconvert_exporter": "python",
   "pygments_lexer": "ipython3",
   "version": "3.7.1"
  }
 },
 "nbformat": 4,
 "nbformat_minor": 2
}
